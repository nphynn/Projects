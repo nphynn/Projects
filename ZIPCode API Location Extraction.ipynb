{
  "nbformat": 4,
  "nbformat_minor": 0,
  "metadata": {
    "colab": {
      "provenance": []
    },
    "kernelspec": {
      "name": "python3",
      "display_name": "Python 3"
    },
    "language_info": {
      "name": "python"
    }
  },
  "cells": [
    {
      "cell_type": "code",
      "execution_count": null,
      "metadata": {
        "id": "ypQGNIjze1TZ"
      },
      "outputs": [],
      "source": [
        "#Libraries\n",
        "import requests"
      ]
    },
    {
      "cell_type": "code",
      "source": [
        "# Creating my api_key function to access the base url\n",
        "api_key = '1SqQKyJPsLPOdCC084tABkEl8mA68VkULmYjCbtMRQEPSTVCPteOeL9ipLSv4RuC'\n",
        "base_url = 'https://www.zipcodeapi.com/rest'"
      ],
      "metadata": {
        "id": "yXNEdmXbe8yG"
      },
      "execution_count": null,
      "outputs": []
    },
    {
      "cell_type": "code",
      "source": [
        "# Function to get the distance between two zip codes\n",
        "def get_distance(zip_code1, zip_code2):\n",
        "    endpoint = f\"{base_url}/{api_key}/distance.json/{zip_code1}/{zip_code2}/mile\"\n",
        "    response = requests.get(endpoint)\n",
        "    if response.status_code == 200:\n",
        "        data = response.json()\n",
        "        return data['distance']\n",
        "    else:\n",
        "        return f\"Error: {response.status_code}\""
      ],
      "metadata": {
        "id": "dU53FvZXe9Ts"
      },
      "execution_count": null,
      "outputs": []
    },
    {
      "cell_type": "code",
      "source": [
        "# Function to get the information for a specific zip code\n",
        "def get_zip_code_info(zip_code):\n",
        "    endpoint = f\"{base_url}/{api_key}/info.json/{zip_code}/degrees\"\n",
        "    response = requests.get(endpoint)\n",
        "    if response.status_code == 200:\n",
        "        data = response.json()\n",
        "        return data\n",
        "    else:\n",
        "        return f\"Error: {response.status_code}\""
      ],
      "metadata": {
        "id": "vxH-WEvhe_sy"
      },
      "execution_count": null,
      "outputs": []
    },
    {
      "cell_type": "code",
      "source": [
        "# Distance calculation for data testing\n",
        "zip_code1 = '90210'\n",
        "zip_code2 = '10001'\n",
        "\n",
        "distance = get_distance(zip_code1, zip_code2)\n",
        "print(f\"Distance between {zip_code1} and {zip_code2}: {distance} miles\")"
      ],
      "metadata": {
        "id": "i3BzDY-QfChg"
      },
      "execution_count": null,
      "outputs": []
    },
    {
      "cell_type": "code",
      "source": [
        "# Text extraction gatting zip info for 90210\n",
        "zip_info = get_zip_code_info(zip_code1)\n",
        "print(f\"Information for zip code {zip_code1}: {zip_info}\")"
      ],
      "metadata": {
        "id": "rlD0tAenfGXU"
      },
      "execution_count": null,
      "outputs": []
    }
  ]
}
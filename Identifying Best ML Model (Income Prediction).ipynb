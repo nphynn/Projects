{
  "nbformat": 4,
  "nbformat_minor": 0,
  "metadata": {
    "colab": {
      "provenance": []
    },
    "kernelspec": {
      "name": "python3",
      "display_name": "Python 3"
    },
    "language_info": {
      "name": "python"
    }
  },
  "cells": [
    {
      "cell_type": "code",
      "execution_count": null,
      "metadata": {
        "id": "_fAHji5-fT-x"
      },
      "outputs": [],
      "source": [
        "#Load libraries\n",
        "import pandas as pd\n",
        "import numpy as np\n",
        "import matplotlib.pyplot as plt\n",
        "import seaborn as sns\n",
        "from sklearn import metrics\n",
        "from sklearn.naive_bayes import GaussianNB, BernoulliNB, MultinomialNB\n",
        "import seaborn as sns\n",
        "from sklearn.preprocessing import StandardScaler\n",
        "from sklearn.model_selection import train_test_split\n",
        "from sklearn.linear_model import LinearRegression, LogisticRegression\n",
        "from sklearn.tree import DecisionTreeClassifier\n",
        "from sklearn.model_selection import train_test_split, GridSearchCV, cross_val_score, cross_validate, ShuffleSplit, LeaveOneOut\n",
        "from sklearn.preprocessing import LabelEncoder"
      ]
    },
    {
      "cell_type": "code",
      "source": [
        "#Data Load & EDA\n",
        "df = pd.read_csv('/content/sample_data/adult1.csv')\n",
        "\n",
        "nRow, nCol = df.shape\n",
        "print(f'There are {nRow} rows and {nCol} columns')\n",
        "\n",
        "df.head()\n",
        "df.tail()\n",
        "df.info()\n",
        "\n",
        "df.describe().T.round(2)\n",
        "\n",
        "df.nunique().sort_values()\n",
        "\n",
        "missing_df =  df.isnull().sum().to_frame().rename(columns={0:\"Total No. of Missing Values\"})\n",
        "missing_df[\"% of Missing Values\"] = round((missing_df[\"Total No. of Missing Values\"]/len( df))*100,2)\n",
        "missing_df"
      ],
      "metadata": {
        "id": "_NCigKpLpHqG"
      },
      "execution_count": null,
      "outputs": []
    },
    {
      "cell_type": "code",
      "source": [
        "# Data Pre-Processing\n",
        "df.replace('?',np.NaN,inplace=True)\n",
        "df.dropna(inplace=True)\n",
        "df.shape\n",
        "\n",
        "df.duplicated().sum()\n",
        "df.drop_duplicates(inplace=True)\n",
        "df.shape\n",
        "\n",
        "for column in df.select_dtypes(include=['object']):\n",
        "    sns.countplot(x=column, data=df,palette='rainbow')\n",
        "    plt.xticks(rotation=45, ha='right')\n",
        "    plt.tight_layout()\n",
        "    plt.show()\n",
        "\n",
        "\n",
        "\n",
        "le = LabelEncoder()\n",
        "df['workclass'] = le.fit_transform(df['workclass'])\n",
        "df['marital.status'] = le.fit_transform(df['marital.status'])\n",
        "df['occupation'] = le.fit_transform(df['occupation'])\n",
        "df['relationship'] = le.fit_transform(df['relationship'])\n",
        "df['race'] = le.fit_transform(df['race'])\n",
        "df['sex'] = le.fit_transform(df['sex'])\n",
        "df['native.country'] = le.fit_transform(df['native.country'])\n",
        "df['income'] = le.fit_transform(df['income'])\n",
        "df['education'] = le.fit_transform(df['education'])\n",
        "df['fnlwgt'] = le.fit_transform(df['fnlwgt'])\n",
        "\n",
        "df.head()\n",
        "\n",
        "sns.countplot(x='income', data=df)\n",
        "plt.title(\"Income count\")\n",
        "\n",
        "\n",
        "sns.heatmap(df.corr())"
      ],
      "metadata": {
        "id": "V_LSMAKZs1SM"
      },
      "execution_count": null,
      "outputs": []
    },
    {
      "cell_type": "code",
      "source": [
        "#Testing & Training Dataset with Feature Engineering\n",
        "X = df.drop(['income'],axis=1)\n",
        "y = df['income']\n",
        "\n",
        "from sklearn.model_selection import train_test_split\n",
        "X_train, X_test, y_train, y_test = train_test_split(X, y, test_size = 0.3, random_state = 0)\n",
        "from sklearn.preprocessing import StandardScaler\n",
        "\n",
        "scaler = StandardScaler()\n",
        "X_train = pd.DataFrame(scaler.fit_transform(X_train), columns = X.columns)\n",
        "X_test = pd.DataFrame(scaler.transform(X_test), columns = X.columns)"
      ],
      "metadata": {
        "id": "nzK65nPLuSq4"
      },
      "execution_count": null,
      "outputs": []
    },
    {
      "cell_type": "code",
      "source": [
        "# Modeling & Performance\n",
        "from sklearn.linear_model import LogisticRegression\n",
        "model=LogisticRegression()\n",
        "\n",
        "model.fit(X_train, y_train)\n",
        "pred=model.predict(X_test)\n",
        "\n",
        "from sklearn.metrics import accuracy_score,classification_report, confusion_matrix\n",
        "\n",
        "print(\"Accuracy_score: \",accuracy_score(pred,y_test))\n",
        "print(\"\\n\\n Classification report: \\n\\n\",classification_report(pred,y_test))\n",
        "print(\"\\n\\n confusion matrix: \",confusion_matrix(pred, y_test))\n",
        "\n",
        "\n",
        "from sklearn.tree import DecisionTreeClassifier\n",
        "model=DecisionTreeClassifier()\n",
        "\n",
        "model.fit(X_train, y_train)\n",
        "pred=model.predict(X_test)\n",
        "print(\"Accuracy_score: \",accuracy_score(pred,y_test))\n",
        "print(\"\\n\\n Classification report: \\n\\n\",classification_report(pred,y_test))\n",
        "print(\"\\n\\n confusion matrix: \",confusion_matrix(pred, y_test))\n",
        "\n",
        "\n",
        "from sklearn.ensemble import RandomForestClassifier\n",
        "model=RandomForestClassifier()\n",
        "\n",
        "model.fit(X_train, y_train)\n",
        "pred=model.predict(X_test)\n",
        "print(\"Accuracy_score: \",accuracy_score(pred,y_test))\n",
        "print(\"\\n\\n Classification report: \\n\\n\",classification_report(pred,y_test))\n",
        "print(\"\\n\\n confusion matrix: \\n\\n\",confusion_matrix(pred, y_test))\n",
        "\n",
        "\n",
        "from sklearn.ensemble import GradientBoostingClassifier\n",
        "model=GradientBoostingClassifier()\n",
        "\n",
        "model.fit(X_train, y_train)\n",
        "pred=model.predict(X_test)\n",
        "print(\"Accuracy_score: \",accuracy_score(pred,y_test))\n",
        "print(\"\\n\\n Classification report: \\n\\n\",classification_report(pred,y_test))\n",
        "print(\"\\n\\n confusion matrix: \",confusion_matrix(pred, y_test))\n",
        "\n",
        "\n",
        "import xgboost as xgb\n",
        "model1=xgb.XGBClassifier()\n",
        "\n",
        "model1.fit(X_train, y_train)\n",
        "pred=model1.predict(X_test)\n",
        "print(\"Accuracy_score: \",accuracy_score(pred,y_test))\n",
        "print(\"\\n\\n Classification report: \\n\\n\",classification_report(pred,y_test))\n",
        "print(\"\\n\\n confusion matrix: \",confusion_matrix(pred, y_test))\n",
        "\n",
        "\n",
        "from sklearn.naive_bayes import GaussianNB\n",
        "model = GaussianNB()\n",
        "model.fit(X_train,y_train)\n",
        "pred=model.predict(X_test)\n",
        "print(\"Accuracy_score: \",accuracy_score(pred,y_test))\n",
        "print(\"\\n\\n Classification report: \\n\\n\",classification_report(pred,y_test))\n",
        "print(\"\\n\\n confusion matrix: \",confusion_matrix(pred, y_test))"
      ],
      "metadata": {
        "id": "ltNp5oYBvzgH"
      },
      "execution_count": null,
      "outputs": []
    }
  ]
}